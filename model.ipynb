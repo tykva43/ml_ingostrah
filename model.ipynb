{
 "cells": [
  {
   "cell_type": "code",
   "execution_count": null,
   "id": "ea71d58f-a24a-46bb-b1fc-5154f158f387",
   "metadata": {},
   "outputs": [],
   "source": [
    "import pandas as pd\n",
    "import numpy as np\n",
    "import matplotlib.pyplot as plt\n",
    "from math import ceil\n",
    "from sklearn.preprocessing import LabelEncoder, StandardScaler\n",
    "from category_encoders.binary import BinaryEncoder\n",
    "import seaborn as sns\n",
    "\n",
    "from matplotlib.pyplot import figure\n",
    "\n",
    "from sklearn.svm import SVC\n",
    "from sklearn.linear_model import SGDClassifier\n",
    "from sklearn.neighbors import KNeighborsClassifier\n",
    "from sklearn.tree import DecisionTreeClassifier\n",
    "from sklearn.model_selection import cross_val_score\n",
    "\n",
    "from imblearn.over_sampling import RandomOverSampler\n",
    "from imblearn.under_sampling import RandomUnderSampler\n",
    "\n",
    "from sklearn.pipeline import Pipeline\n",
    "from sklearn.model_selection import RandomizedSearchCV\n",
    "\n",
    "from sklearn.ensemble import StackingClassifier\n",
    "from sklearn.ensemble import BaggingClassifier\n",
    "from sklearn.ensemble import GradientBoostingClassifier\n",
    "\n",
    "from sklearn.metrics import precision_score, make_scorer\n",
    "\n",
    "import warnings\n",
    "warnings.filterwarnings('ignore')"
   ]
  },
  {
   "cell_type": "code",
   "execution_count": null,
   "id": "a6becd5b-219b-4ca7-8f05-61e1d8b3b590",
   "metadata": {},
   "outputs": [],
   "source": [
    "df = pd.read_csv('bank.csv', sep=';')\n",
    "df.head()"
   ]
  },
  {
   "cell_type": "code",
   "execution_count": null,
   "id": "b589c3f0-401a-4f0e-a98b-7cc29cc7d959",
   "metadata": {},
   "outputs": [],
   "source": [
    "df.shape"
   ]
  },
  {
   "cell_type": "code",
   "execution_count": null,
   "id": "c56569ae-b47e-4afa-b252-a901e87a2efa",
   "metadata": {},
   "outputs": [],
   "source": [
    "df.dropna().shape"
   ]
  },
  {
   "cell_type": "code",
   "execution_count": null,
   "id": "ca963a69-8e48-43b0-b65c-94b46e5ea64e",
   "metadata": {},
   "outputs": [],
   "source": [
    "df.describe()"
   ]
  },
  {
   "cell_type": "code",
   "execution_count": null,
   "id": "906eaa95-b3ed-4f17-8e9b-e156d5439b21",
   "metadata": {},
   "outputs": [],
   "source": [
    "df.describe(include = [\"object\"])"
   ]
  },
  {
   "cell_type": "code",
   "execution_count": null,
   "id": "034c2a4c-6631-4586-98b8-2cf9d1ad80dc",
   "metadata": {},
   "outputs": [],
   "source": [
    "df[\"y\"].value_counts()"
   ]
  },
  {
   "cell_type": "code",
   "execution_count": null,
   "id": "8f89a0d3-3aaa-4967-beb0-3f6a60d53e33",
   "metadata": {},
   "outputs": [],
   "source": [
    "df[\"marital\"].value_counts(normalize = True)"
   ]
  },
  {
   "cell_type": "code",
   "execution_count": null,
   "id": "4e0d299a-1d2e-4ffd-bdad-2d072b856502",
   "metadata": {},
   "outputs": [],
   "source": [
    "numeric_columns = ('age', 'balance', 'day', 'duration', 'campaign', 'pdays', 'previous')"
   ]
  },
  {
   "cell_type": "code",
   "execution_count": null,
   "id": "93cf53ba-1d1a-465b-887d-4518c7715b1a",
   "metadata": {},
   "outputs": [],
   "source": [
    "cols = 3\n",
    "\n",
    "fig, axes = plt.subplots(nrows=ceil(len(numeric_columns)/cols), ncols=cols, figsize=(20, 10))\n",
    "\n",
    "for i, column in enumerate(numeric_columns):\n",
    "    df.boxplot(column=column, ax=axes[i//cols,i%cols])\n",
    "    \n",
    "plt.show()"
   ]
  },
  {
   "cell_type": "code",
   "execution_count": null,
   "id": "47557fb5-7579-4bcc-ab36-7e433a8650af",
   "metadata": {},
   "outputs": [],
   "source": [
    "df.corr()"
   ]
  },
  {
   "cell_type": "code",
   "execution_count": null,
   "id": "21e9e038-a930-44f9-830d-42304f035e78",
   "metadata": {},
   "outputs": [],
   "source": [
    "df['y'].unique()"
   ]
  },
  {
   "cell_type": "code",
   "execution_count": null,
   "id": "fa9e8bf1-b3c8-49d5-9733-c1a7e0208c4c",
   "metadata": {},
   "outputs": [],
   "source": [
    "nominal_cols = ['job', 'marital', 'education', 'contact', 'poutcome']\n",
    "binary_cols = ['default', 'housing', 'loan', 'y']\n",
    "ordinal_cols = ['month']\n",
    "numeric_cols = ['age', 'balance', 'day', 'duration', 'campaign', 'pdays', 'previous']"
   ]
  },
  {
   "cell_type": "code",
   "execution_count": null,
   "id": "c57482d2-f90a-4211-b28e-8cc3882bdb9f",
   "metadata": {},
   "outputs": [],
   "source": []
  },
  {
   "cell_type": "markdown",
   "id": "445a7677-58d4-48f9-aca2-d696f56d9e2e",
   "metadata": {},
   "source": [
    "# Преобразование категориальных признаков"
   ]
  },
  {
   "cell_type": "code",
   "execution_count": null,
   "id": "07687183-3468-4374-817d-2118ca7db44c",
   "metadata": {},
   "outputs": [],
   "source": [
    "df_encoded = df.copy()"
   ]
  },
  {
   "cell_type": "markdown",
   "id": "d213270b-a19d-4090-bc4d-a49c0658f3b3",
   "metadata": {},
   "source": [
    "### Преобразование бинарных признаков"
   ]
  },
  {
   "cell_type": "code",
   "execution_count": null,
   "id": "10872845-5f13-48cf-bfd3-c1e2db39f0a4",
   "metadata": {},
   "outputs": [],
   "source": [
    "le = LabelEncoder()\n",
    "le.fit(df_encoded[binary_cols[0]])\n",
    "\n",
    "for col_name in binary_cols:\n",
    "    df_encoded[col_name] = le.transform(df_encoded[col_name])"
   ]
  },
  {
   "cell_type": "code",
   "execution_count": null,
   "id": "22641d86-d1be-4ba0-a71d-ca66ca4b331c",
   "metadata": {},
   "outputs": [],
   "source": [
    "le.classes_"
   ]
  },
  {
   "cell_type": "markdown",
   "id": "d2608171-4710-4144-ad3e-b1f716881395",
   "metadata": {},
   "source": [
    "### Преобразование порядковых признаков"
   ]
  },
  {
   "cell_type": "code",
   "execution_count": null,
   "id": "942d7059-99c4-4835-b29c-4c12ffce968d",
   "metadata": {},
   "outputs": [],
   "source": [
    "month_encoding = {\n",
    "    'jan': 1,\n",
    "    'feb': 2,\n",
    "    'mar': 3,\n",
    "    'apr': 4,\n",
    "    'may': 5,\n",
    "    'jun': 6,\n",
    "    'jul': 7,\n",
    "    'aug': 8,\n",
    "    'sep': 9,\n",
    "    'oct': 10,\n",
    "    'nov': 11,\n",
    "    'dec': 12\n",
    "}\n",
    "\n",
    "df_encoded['month'] = df_encoded['month'].map(month_encoding)"
   ]
  },
  {
   "cell_type": "markdown",
   "id": "2b832883-882b-4e43-89ed-3df10ab5a929",
   "metadata": {},
   "source": [
    "### Преобразование номинальных признаков"
   ]
  },
  {
   "cell_type": "code",
   "execution_count": null,
   "id": "fd2bbc85-c8ef-42f9-9068-3036dc2539a4",
   "metadata": {},
   "outputs": [],
   "source": [
    "be = BinaryEncoder(cols=nominal_cols).fit(df_encoded)\n",
    "df_encoded = be.transform(df_encoded)"
   ]
  },
  {
   "cell_type": "markdown",
   "id": "bbe3dd05-08ce-4ba7-9e86-cc58712240aa",
   "metadata": {
    "tags": []
   },
   "source": [
    "#### Результат преобразования категориальных признаков в числовые:"
   ]
  },
  {
   "cell_type": "code",
   "execution_count": null,
   "id": "57691704-1cff-484c-98e0-e5eb9da38586",
   "metadata": {},
   "outputs": [],
   "source": [
    "df_encoded"
   ]
  },
  {
   "cell_type": "code",
   "execution_count": null,
   "id": "6bda3187-ed02-4b4c-be57-3e7dafd7fcd0",
   "metadata": {},
   "outputs": [],
   "source": [
    "df_encoded.describe()"
   ]
  },
  {
   "cell_type": "code",
   "execution_count": null,
   "id": "dc6f4c6c-e529-4f50-ac63-787c7366e403",
   "metadata": {},
   "outputs": [],
   "source": [
    "df_encoded[numeric_cols+ordinal_cols+binary_cols].hist(figsize=(30,30))"
   ]
  },
  {
   "cell_type": "code",
   "execution_count": null,
   "id": "df8021bb-c774-4ae1-a8ac-344a5a2b2878",
   "metadata": {},
   "outputs": [],
   "source": [
    "corr = df_encoded.corr()\n",
    "fig, ax = plt.subplots(figsize=(10,7))   \n",
    "\n",
    "sns.heatmap(corr, \n",
    "        xticklabels=corr.columns,\n",
    "        yticklabels=corr.columns, ax=ax)"
   ]
  },
  {
   "cell_type": "code",
   "execution_count": null,
   "id": "695c3025-7bdf-4126-9198-af5e3354fd1b",
   "metadata": {},
   "outputs": [],
   "source": [
    "\n",
    "corr = df_encoded[['y', 'age', 'default', 'balance', 'housing', 'loan', 'day', 'month', 'duration', 'campaign', 'pdays', 'previous']].corr()\n",
    "fig, ax = plt.subplots(figsize=(10,7))         # Sample figsize in inches\n",
    "\n",
    "# plot the heatmap\n",
    "sns.heatmap(corr, \n",
    "        xticklabels=corr.columns,\n",
    "        yticklabels=corr.columns, ax=ax)"
   ]
  },
  {
   "cell_type": "code",
   "execution_count": null,
   "id": "4dc88d21-e53c-48a0-822a-718be71e0fa2",
   "metadata": {},
   "outputs": [],
   "source": [
    "# Отобразить признаки, которые сильно коррелируют\n",
    "for col in df_encoded.columns:\n",
    "    items = list(df_encoded.corr()[col].items())\n",
    "    cors = list(filter(lambda x: abs(x[1])>0.7 and x[1]!=1, items))\n",
    "    if cors:\n",
    "        print(col, cors)\n",
    "    # print()"
   ]
  },
  {
   "cell_type": "code",
   "execution_count": null,
   "id": "c6d81223-066a-4ae2-8364-592eaab950d2",
   "metadata": {},
   "outputs": [],
   "source": [
    "list(df_encoded.corr()['y'].items())"
   ]
  },
  {
   "cell_type": "code",
   "execution_count": null,
   "id": "7ae48191-3fbf-4032-8887-d9c3981e00f8",
   "metadata": {},
   "outputs": [],
   "source": [
    "df.hist(figsize=(30,30))"
   ]
  },
  {
   "cell_type": "code",
   "execution_count": null,
   "id": "e83f8eee-5882-423e-a2ab-2a32955411db",
   "metadata": {},
   "outputs": [],
   "source": [
    "ax = sns.countplot(x = df[\"y\"]) \n",
    "plt.show()"
   ]
  },
  {
   "cell_type": "markdown",
   "id": "feafb96c-6044-472a-b26a-583b99bcb253",
   "metadata": {},
   "source": [
    "## Стандартизация"
   ]
  },
  {
   "cell_type": "code",
   "execution_count": null,
   "id": "542009a9-1a3c-463a-a50b-f09f145052cb",
   "metadata": {},
   "outputs": [],
   "source": [
    "df_scaled = df_encoded.copy()"
   ]
  },
  {
   "cell_type": "code",
   "execution_count": null,
   "id": "85f90a16-7e66-42d8-8512-57c68eb2add0",
   "metadata": {},
   "outputs": [],
   "source": [
    "for col_name in numeric_cols:\n",
    "    scaler = StandardScaler()\n",
    "    scaler.fit(df_scaled[col_name].to_numpy().reshape(-1, 1))\n",
    "    df_scaled[col_name] = scaler.transform(df_scaled[col_name].to_numpy().reshape(-1, 1))"
   ]
  },
  {
   "cell_type": "code",
   "execution_count": null,
   "id": "f032ef7b-a81f-4bec-999c-5745aee8c072",
   "metadata": {},
   "outputs": [],
   "source": [
    "df_scaled[numeric_cols].hist(figsize=(30,30))"
   ]
  },
  {
   "cell_type": "code",
   "execution_count": null,
   "id": "503fa068-3437-4bda-b84f-5a231c6a9d18",
   "metadata": {},
   "outputs": [],
   "source": [
    "df_scaled"
   ]
  },
  {
   "cell_type": "markdown",
   "id": "095393f0-1fe1-4c88-b905-a52da8eb7d15",
   "metadata": {},
   "source": [
    "## Обучение базовых моделей"
   ]
  },
  {
   "cell_type": "code",
   "execution_count": null,
   "id": "051b3c3c-f1fc-4d69-9eeb-8a6354905598",
   "metadata": {},
   "outputs": [],
   "source": [
    "estimators = [\n",
    "    SGDClassifier(),\n",
    "    SVC(),\n",
    "    KNeighborsClassifier(),\n",
    "    DecisionTreeClassifier()\n",
    "]"
   ]
  },
  {
   "cell_type": "code",
   "execution_count": null,
   "id": "d564dcb6-2778-490f-9b75-b2c67c732090",
   "metadata": {},
   "outputs": [],
   "source": [
    "X = df_scaled.drop('y', 1)\n",
    "y = df_scaled['y']"
   ]
  },
  {
   "cell_type": "code",
   "execution_count": null,
   "id": "69875df4-4c4f-4830-9c72-daae5d0ed80b",
   "metadata": {},
   "outputs": [],
   "source": [
    "def get_estimators_scores(estimators, X, y, range_n=20):\n",
    "    results = {}\n",
    "    for estimator in estimators:\n",
    "        for i in range(range_n):\n",
    "            result = cross_val_score(estimator, X, y, scoring='precision').mean()\n",
    "            if estimator.__class__.__name__ + str(id(estimator)) in results:\n",
    "                results[estimator.__class__.__name__ + str(id(estimator))].append(result)\n",
    "            else:\n",
    "                results[estimator.__class__.__name__ + str(id(estimator))] = [result]\n",
    "    return results\n",
    "                \n",
    "def print_results(results):\n",
    "    for estimator in results:\n",
    "        print('{}\\t\\t\\tmin={}\\tmax={}\\tmean={}'.format(estimator, round(min(results[estimator]),3), round(max(results[estimator]), 3), round(sum(results[estimator])/len(results[estimator]), 3)))"
   ]
  },
  {
   "cell_type": "code",
   "execution_count": null,
   "id": "aabbeca4-d38d-4b23-9cee-581bb834ab57",
   "metadata": {},
   "outputs": [],
   "source": [
    "results = get_estimators_scores(estimators, X, y)"
   ]
  },
  {
   "cell_type": "code",
   "execution_count": null,
   "id": "1019820f-355d-45ff-91ac-4520ffab7e24",
   "metadata": {},
   "outputs": [],
   "source": [
    "print_results(results)"
   ]
  },
  {
   "cell_type": "markdown",
   "id": "809ac06f-1b6d-4649-9df2-cac70e1dcb9e",
   "metadata": {},
   "source": [
    "### Использование балансировки классов"
   ]
  },
  {
   "cell_type": "markdown",
   "id": "ab54e5c7-33ee-4e1e-af8f-2ba42ec52470",
   "metadata": {},
   "source": [
    "#### Вспомогательные функции"
   ]
  },
  {
   "cell_type": "code",
   "execution_count": null,
   "id": "6944447e-39aa-4de6-8268-007f181ea118",
   "metadata": {},
   "outputs": [],
   "source": [
    "# Функции для балансировки выборки\n",
    "\n",
    "def over_sample(X, y, random_state=None):\n",
    "  ros = RandomOverSampler(random_state=random_state)\n",
    "  X_resampled, y_resampled = ros.fit_resample(X, y)\n",
    "  return X_resampled, y_resampled\n",
    "\n",
    "def under_sample(X, y, random_state=None):\n",
    "  rus = RandomUnderSampler(random_state=random_state)\n",
    "  X_resampled, y_resampled = rus.fit_resample(X, y)\n",
    "\n",
    "  return  X_resampled, y_resampled\n"
   ]
  },
  {
   "cell_type": "markdown",
   "id": "7a0591c0-de85-42d7-a77b-6cbd6ad7d228",
   "metadata": {},
   "source": [
    "#### Использование over-sapling метода"
   ]
  },
  {
   "cell_type": "code",
   "execution_count": null,
   "id": "236891bb-cf36-439f-9b80-0832efdc4614",
   "metadata": {},
   "outputs": [],
   "source": [
    "X_, y_ = over_sample(X, y)\n",
    "over_results = get_estimators_scores(estimators, X_, y_)"
   ]
  },
  {
   "cell_type": "code",
   "execution_count": null,
   "id": "c6e82bcb-792b-4961-9c48-27c9d8b51873",
   "metadata": {},
   "outputs": [],
   "source": [
    "print_results(over_results)"
   ]
  },
  {
   "cell_type": "markdown",
   "id": "7d60b23a-1232-4b1b-9208-2dc8e9e1388c",
   "metadata": {},
   "source": [
    "#### Использование under-sapling метода"
   ]
  },
  {
   "cell_type": "code",
   "execution_count": null,
   "id": "ef8dd8d7-85c5-4303-aa44-1a54325160bc",
   "metadata": {},
   "outputs": [],
   "source": [
    "X_, y_ = under_sample(X, y)\n",
    "under_results = get_estimators_scores(estimators, X_, y_)\n",
    "print_results(under_results)"
   ]
  },
  {
   "cell_type": "markdown",
   "id": "8f6674c6-688e-46a2-bbab-7001c7c4e53f",
   "metadata": {},
   "source": [
    "## Подбор гиперпараметров"
   ]
  },
  {
   "cell_type": "markdown",
   "id": "825ab078-1784-4732-aa12-5ebf65883b2f",
   "metadata": {},
   "source": [
    "#### Вспомогательные функции"
   ]
  },
  {
   "cell_type": "code",
   "execution_count": null,
   "id": "74008aa1-a086-4a93-b119-4d515c5bbeae",
   "metadata": {},
   "outputs": [],
   "source": [
    "def make_pipeline(estimator, sampler=None):\n",
    "    if sampler:\n",
    "        return Pipeline([('sampler', sampler), ('estimator', estimator)])\n",
    "    return Pipeline([('estimator', estimator)])\n",
    "\n",
    "def make_estimator(estimator, params_grid, data, labels, scorer='accuracy', sampler=None):\n",
    "    pipeline = make_pipeline(estimator, sampler)\n",
    "    grid_cv = RandomizedSearchCV(pipeline, params_grid, scoring=scorer, cv=5, random_state=42, n_iter=100)\n",
    "    grid_cv.fit(data, labels)\n",
    "    return grid_cv"
   ]
  },
  {
   "cell_type": "markdown",
   "id": "f7df96d9-ed17-44ae-a71c-60e882e9bc40",
   "metadata": {},
   "source": [
    "#### Определение гиперпараметров"
   ]
  },
  {
   "cell_type": "code",
   "execution_count": null,
   "id": "5acb3a2d-7970-4672-88ea-bc1f11f1ef24",
   "metadata": {},
   "outputs": [],
   "source": [
    "estimators_params = {\n",
    "    'SGDClassifier': {\n",
    "        'class': SGDClassifier,\n",
    "        'sampling': 'over',\n",
    "        'params': {\n",
    "            'estimator__loss': ['hinge', 'log', 'modified_huber'],\n",
    "            'estimator__penalty': ['l2', 'l1', 'elasticnet'],\n",
    "            'estimator__shuffle': [True, False],\n",
    "            'estimator__alpha': [1e-4, 1e-3, 1e-2, 1e-1, 1e0, 1e1, 1e2, 1e3],\n",
    "            'estimator__max_iter': [5, 10, 20, 50, 100],\n",
    "        },\n",
    "    },\n",
    "    'SVC': {\n",
    "        'class': SVC,\n",
    "        'sampling': 'over',\n",
    "        'params': {\n",
    "            'estimator__C': [1, 1.5, 0.5, 0.2, 2, 2.5],  \n",
    "            'estimator__kernel': ['linear', 'poly', 'rbf', 'sigmoid'],   \n",
    "            'estimator__degree': [2, 3, 4, 5, 6],\n",
    "            'estimator__gamma': ['scale', 'auto'],\n",
    "        },\n",
    "    },\n",
    "    'KNeighborsClassifier': {\n",
    "        'class': KNeighborsClassifier,\n",
    "        'sampling': 'over',\n",
    "        'params': {\n",
    "            'estimator__n_neighbors': [2, 5, 10, 15, 20],    \n",
    "            'estimator__weights': ['uniform', 'distance'],        \n",
    "            'estimator__algorithm': ['auto', 'ball_tree', 'kd_tree', 'brute'],\n",
    "            'estimator__p': [1, 2],                                               \n",
    "        },\n",
    "    },\n",
    "    'DecisionTreeClassifier': {\n",
    "        'class': DecisionTreeClassifier,\n",
    "        'sampling': 'over',\n",
    "        'params': {\n",
    "            'estimator__criterion': ['gini', 'entropy', 'log_loss'],                               \n",
    "            'estimator__splitter': ['best', 'random'],     \n",
    "            'estimator__min_samples_split': [1, 2, 5, 7, 10, 15],      \n",
    "            'estimator__max_features': ['auto', 'sqrt', 'log2'],    \n",
    "        },\n",
    "    },\n",
    "}"
   ]
  },
  {
   "cell_type": "code",
   "execution_count": null,
   "id": "4644c539-d66e-4486-9a14-ab96fca2fbc8",
   "metadata": {},
   "outputs": [],
   "source": [
    "best_estimators = {}\n",
    "\n",
    "for estimator in estimators:\n",
    "    estimator_name = estimator.__class__.__name__\n",
    "    if estimators_params[estimator_name]['sampling'] == 'over':\n",
    "        X_, y_ = over_sample(X, y)\n",
    "    elif estimators_params[estimator_name]['sampling'] == 'under':\n",
    "        X_, y_ = under_sample(X, y)\n",
    "    else:\n",
    "        X_, y_ = X, y\n",
    "        \n",
    "    grid = make_estimator(estimator, estimators_params[estimator_name]['params'], X, y, scorer=make_scorer(precision_score))\n",
    "    best_estimators[estimator_name] = {'best_score': grid.best_score_, 'best_params': grid.best_params_}"
   ]
  },
  {
   "cell_type": "code",
   "execution_count": null,
   "id": "701a0ac9-9def-4fb4-8ee8-173bf1fa3bb5",
   "metadata": {},
   "outputs": [],
   "source": [
    "best_estimators"
   ]
  },
  {
   "cell_type": "markdown",
   "id": "ff5c1cfa-f1b1-4f82-9b5a-1adf6b2f578e",
   "metadata": {},
   "source": [
    "### Оценка качества классификации с подобранными гиперпараметрами"
   ]
  },
  {
   "cell_type": "code",
   "execution_count": null,
   "id": "c0f48f0e-f72c-4d1a-b971-68f45e738a34",
   "metadata": {},
   "outputs": [],
   "source": [
    "def build_estimator(estimator_cl, best_params):\n",
    "    params = {param.replace('estimator__', ''): best_params[param] for param in best_params}\n",
    "    return estimator_cl(**params)"
   ]
  },
  {
   "cell_type": "code",
   "execution_count": null,
   "id": "0330e1f2-d93b-4461-b09f-086584f69235",
   "metadata": {},
   "outputs": [],
   "source": []
  },
  {
   "cell_type": "code",
   "execution_count": null,
   "id": "f541161d-dda2-4857-8bb4-41c691e094a1",
   "metadata": {},
   "outputs": [],
   "source": [
    "over_sampling = [build_estimator(estimators_params[est]['class'], best_estimators[est]['best_params']) for est in best_estimators if estimators_params[est]['sampling']=='over']\n",
    "\n",
    "X_, y_ = over_sample(X, y)\n",
    "\n",
    "print_results(get_estimators_scores(over_sampling, X_, y_, 20))"
   ]
  },
  {
   "cell_type": "markdown",
   "id": "065ed16d-0ef3-4f17-8fc7-ac64b938aa7b",
   "metadata": {},
   "source": [
    "# Применение ансамблей для улучшения качества работы моделей"
   ]
  },
  {
   "cell_type": "code",
   "execution_count": null,
   "id": "fd0d06c8-4ec0-4d3d-9c08-5e4e37863317",
   "metadata": {},
   "outputs": [],
   "source": [
    "estimators_list = [(est, build_estimator(estimators_params[est]['class'], best_estimators[est]['best_params'])) for est in best_estimators]\n",
    "\n",
    "stacking_ens = StackingClassifier(estimators_list)"
   ]
  },
  {
   "cell_type": "code",
   "execution_count": null,
   "id": "d6bf4a13-6889-49e0-916e-24ef234472f1",
   "metadata": {},
   "outputs": [],
   "source": [
    "stacking_ens"
   ]
  },
  {
   "cell_type": "code",
   "execution_count": null,
   "id": "f1f218e4-bb38-458c-a96d-bfc333feae19",
   "metadata": {},
   "outputs": [],
   "source": [
    "# Составляем беггинг-ансамбли, состоящие из 4х моделей\n",
    "bagging_ens = []\n",
    "for est in best_estimators:\n",
    "    bagging_ens.append(BaggingClassifier(build_estimator(estimators_params[est]['class'], best_estimators[est]['best_params']), n_estimators=4))\n"
   ]
  },
  {
   "cell_type": "code",
   "execution_count": null,
   "id": "32c4b32b-ca6d-45a1-9b7a-59aced2d4d1e",
   "metadata": {},
   "outputs": [],
   "source": [
    "boosting_ens = [GradientBoostingClassifier(n_estimators=4)]"
   ]
  },
  {
   "cell_type": "code",
   "execution_count": null,
   "id": "2c6d2b3d-bbb3-4fbe-a8b5-30dea5056775",
   "metadata": {},
   "outputs": [],
   "source": [
    "result = get_estimators_scores([stacking_ens] + bagging_ens + boosting_ens, X, y, 5)\n",
    "print_results(result)"
   ]
  },
  {
   "cell_type": "markdown",
   "id": "ba279c79-7271-4c53-aa5d-974ce9d20daa",
   "metadata": {},
   "source": [
    "### Влияние количества моделей в ансамбле на точность классификации"
   ]
  },
  {
   "cell_type": "code",
   "execution_count": null,
   "id": "7454d350-bdc3-4b96-b596-4ad96aa5aac4",
   "metadata": {},
   "outputs": [],
   "source": [
    "ens_results = []\n",
    "nn = [5, 10, 20, 50, 100, 150, 200, 500]\n",
    "for n_estimators in nn:\n",
    "    \n",
    "    bagging_ens = []\n",
    "    for est in best_estimators:\n",
    "        bagging_ens.append(BaggingClassifier(build_estimator(estimators_params[est]['class'], best_estimators[est]['best_params']), n_estimators=n_estimators))\n",
    "    \n",
    "    boosting_ens = [GradientBoostingClassifier(n_estimators=n_estimators)]\n",
    "    \n",
    "    result = get_estimators_scores(bagging_ens + boosting_ens, X, y, 5)\n",
    "    print('n_estimators = {}'.format(n_estimators))\n",
    "    print_results(result)\n",
    "    ens_results.append(result)\n"
   ]
  },
  {
   "cell_type": "code",
   "execution_count": null,
   "id": "66f2c8fe-526f-4287-95b6-871065cae80c",
   "metadata": {},
   "outputs": [],
   "source": [
    "ensebles_scores = [[],[],[],[],[]]\n",
    "\n",
    "for i, res in enumerate(ens_results):\n",
    "    for j, n_result in enumerate(res):\n",
    "        scores = ens_results[i][n_result]\n",
    "        ensebles_scores[j].append(sum(scores)/len(scores))\n"
   ]
  },
  {
   "cell_type": "code",
   "execution_count": null,
   "id": "031b44d6-9ddf-4c8c-8731-4b1a6a7b3682",
   "metadata": {},
   "outputs": [],
   "source": [
    "figure(figsize=(10, 8), dpi=80)\n",
    "\n",
    "x = nn\n",
    "y1 = ensebles_scores[0]\n",
    "y2 = ensebles_scores[1]\n",
    "y3 = ensebles_scores[2]\n",
    "y4 = ensebles_scores[3]\n",
    "y5 = ensebles_scores[4]\n",
    "plt.plot(x, y1, x, y2, x, y3, x, y4, x, y5)\n",
    "plt.xlabel('n estimators', fontsize=15)\n",
    "plt.ylabel('Precision', fontsize=15)\n",
    "plt.legend(['Bagging SGD', 'Bagging SVC', 'Bagging KNeighbors', 'Bagging DecisionTree', 'GradientBoosting'], fontsize=12)\n",
    "plt.show()"
   ]
  },
  {
   "cell_type": "markdown",
   "id": "0de33460-e7c5-400b-ab11-e7f50c532a1b",
   "metadata": {},
   "source": [
    "#### Балансировка классов для стекинга моделей"
   ]
  },
  {
   "cell_type": "code",
   "execution_count": null,
   "id": "4f9c4c17-c711-4d04-a504-4a265bcdb344",
   "metadata": {},
   "outputs": [],
   "source": [
    "from sklearn.model_selection import train_test_split"
   ]
  },
  {
   "cell_type": "code",
   "execution_count": null,
   "id": "0cd54072-a8e6-4dad-8282-e1af5df677cc",
   "metadata": {},
   "outputs": [],
   "source": [
    "X_train, X_test, y_train, y_test = train_test_split(X, y, test_size=400, stratify=y, random_state=42)\n",
    "\n",
    "final_est = 'KNeighborsClassifier'\n",
    "estimator = build_estimator(estimators_params[final_est]['class'], best_estimators[final_est]['best_params'])\n",
    "\n",
    "final_ens = BaggingClassifier(estimator, n_estimators=100)\n",
    "\n",
    "final_ens.fit(X_train, y_train)\n",
    "preds = final_ens.predict(X_test)\n",
    "score_test = precision_score(y_test.to_list(), preds)\n",
    "print('test score', score_test)\n",
    "print('cross_vale_score', cross_val_score(final_ens, X_train, y_train).mean())"
   ]
  },
  {
   "cell_type": "code",
   "execution_count": null,
   "id": "6857d257-34d3-4845-af9c-931d080fd80a",
   "metadata": {},
   "outputs": [],
   "source": [
    "X_, y_ = over_sample(X, y)\n",
    "X_train, X_test, y_train, y_test = train_test_split(X_, y_, test_size=400, stratify=y_, random_state=42)\n",
    "\n",
    "final_ens.fit(X_train, y_train)\n",
    "preds = final_ens.predict(X_test)\n",
    "score_test = accuracy_score(y_test.to_list(), preds)\n",
    "print('test score', score_test)\n",
    "print('cross_vale_score', cross_val_score(final_ens, X_train, y_train).mean())"
   ]
  },
  {
   "cell_type": "code",
   "execution_count": null,
   "id": "4a4b99a2-9b0a-4fe4-92ef-0f995859d81a",
   "metadata": {},
   "outputs": [],
   "source": [
    "X_, y_ = under_sample(X, y)\n",
    "X_train, X_test, y_train, y_test = train_test_split(X_, y_, test_size=400, stratify=y_, random_state=42)\n",
    "\n",
    "final_ens.fit(X_train, y_train)\n",
    "preds = final_ens.predict(X_test)\n",
    "score_test = accuracy_score(y_test, preds)\n",
    "print('test score', score_test)\n",
    "print('cross_vale_score', cross_val_score(final_ens, X_train, y_train).mean())"
   ]
  },
  {
   "cell_type": "code",
   "execution_count": null,
   "id": "77dc5244-521c-46bd-9ad0-924c4c24026c",
   "metadata": {},
   "outputs": [],
   "source": []
  },
  {
   "cell_type": "code",
   "execution_count": null,
   "id": "1c57236f-db6f-4e83-b84d-a0b2d9303da8",
   "metadata": {},
   "outputs": [],
   "source": []
  }
 ],
 "metadata": {
  "kernelspec": {
   "display_name": "yandex",
   "language": "python",
   "name": "yandex"
  },
  "language_info": {
   "codemirror_mode": {
    "name": "ipython",
    "version": 3
   },
   "file_extension": ".py",
   "mimetype": "text/x-python",
   "name": "python",
   "nbconvert_exporter": "python",
   "pygments_lexer": "ipython3",
   "version": "3.10.4"
  }
 },
 "nbformat": 4,
 "nbformat_minor": 5
}
